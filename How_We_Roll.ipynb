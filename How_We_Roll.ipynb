{
  "nbformat": 4,
  "nbformat_minor": 0,
  "metadata": {
    "colab": {
      "private_outputs": true,
      "provenance": [],
      "include_colab_link": true
    },
    "kernelspec": {
      "name": "python3",
      "display_name": "Python 3"
    },
    "language_info": {
      "name": "python"
    }
  },
  "cells": [
    {
      "cell_type": "markdown",
      "metadata": {
        "id": "view-in-github",
        "colab_type": "text"
      },
      "source": [
        "<a href=\"https://colab.research.google.com/github/fizzixprof/Pendulum/blob/master/How_We_Roll.ipynb\" target=\"_parent\"><img src=\"https://colab.research.google.com/assets/colab-badge.svg\" alt=\"Open In Colab\"/></a>"
      ]
    },
    {
      "cell_type": "markdown",
      "source": [
        "#Now that you've completed Part A, let's look at using Python to create histograms of your data.\n",
        "\n"
      ],
      "metadata": {
        "id": "L17SJmCpgnnx"
      }
    },
    {
      "cell_type": "markdown",
      "source": [
        "#Part B"
      ],
      "metadata": {
        "id": "7wJKK-7rddvU"
      }
    },
    {
      "cell_type": "markdown",
      "source": [
        "## Graphing your data"
      ],
      "metadata": {
        "id": "9YUyskWbZC2D"
      }
    },
    {
      "cell_type": "markdown",
      "source": [
        "Edit the code below to enter your group's counts. Then click the play button to plot the results."
      ],
      "metadata": {
        "id": "AO0ByeBzZL_5"
      }
    },
    {
      "cell_type": "code",
      "source": [
        "import pandas as pd\n",
        "from matplotlib import pyplot as plt\n",
        "\n",
        "# Change values in these rows to reflect your rolls\n",
        "num_1 = 0\n",
        "num_2 = 0\n",
        "num_3 = 0\n",
        "num_4 = 0\n",
        "num_5 = 0\n",
        "num_6 = 0\n",
        "\n",
        "# This creates an array (list) of your results\n",
        "data = [num_1, num_2, num_3, num_4, num_5, num_6]\n",
        "\n",
        "# Calculating the total number of rolls\n",
        "dice_rolled = sum(data)\n",
        "\n",
        "# Creating the graph\n",
        "plt.figure(figsize=(10,7))\n",
        "plt.bar(range(1,7), data)\n",
        "plt.title(f'Dice Rolled = {int(dice_rolled)}')\n",
        "plt.ylabel(\"Counts\")\n",
        "plt.xlabel(\"Dice Value\")\n",
        "plt.show()"
      ],
      "metadata": {
        "id": "PHP0A2HyaFde"
      },
      "execution_count": null,
      "outputs": []
    },
    {
      "cell_type": "markdown",
      "source": [
        "## Graphing all the data"
      ],
      "metadata": {
        "id": "0WWZXUdoY7Zg"
      }
    },
    {
      "cell_type": "markdown",
      "source": [
        "Enter your counts from Part A in the [Google Form](https://docs.google.com/forms/d/e/1FAIpQLScdfaM4MIpWfUDrHewMy7HHSy_kM8JrppbVg-KimVPkMYZDPQ/viewform) then press the play button in the code block below.\n",
        "\n",
        "This will create a histogram of all the rolls entered into the form tonight.\n",
        "\n"
      ],
      "metadata": {
        "id": "wEMgyQwcY3ac"
      }
    },
    {
      "cell_type": "code",
      "execution_count": null,
      "metadata": {
        "id": "EF2vE5PEQ_j-"
      },
      "outputs": [],
      "source": [
        "import pandas as pd\n",
        "from matplotlib import pyplot as plt\n",
        "\n",
        "ss_data = pd.read_excel(\"https://docs.google.com/spreadsheets/d/176lVchJoLEJmTkZkx1W4ZMFSidldSZwYyXZRjzTMKT4/export\", usecols = \"B:G\", names = [\"1\", \"2\", \"3\", \"4\", \"5\", \"6\"])\n",
        "total_counts = ss_data.sum()\n",
        "total_dice_rolled = sum(total_counts)\n",
        "\n",
        "plt.figure(figsize=(10,7))\n",
        "plt.bar(range(1,7), total_counts)\n",
        "plt.title(f'Dice Rolled = {int(total_dice_rolled)}')\n",
        "plt.ylabel(\"Counts\")\n",
        "plt.xlabel(\"Dice Value\")\n",
        "plt.show()"
      ]
    },
    {
      "cell_type": "markdown",
      "source": [
        "## N rolls of S sided dice"
      ],
      "metadata": {
        "id": "yPa5hcvmdzen"
      }
    },
    {
      "cell_type": "code",
      "source": [
        "from random import randint\n",
        "from matplotlib import pyplot as plt\n",
        "import numpy as np\n",
        "\n",
        "# Set our variables\n",
        "num_rolls = 10\n",
        "sides = 6\n",
        "\n",
        "# Roll the die and store the results. i is a counter that will loop until it reaches num_rolls\n",
        "rolls = [randint(1, sides) for i in range(num_rolls)]\n",
        "\n",
        "# Create a histogram of the results\n",
        "plt.hist(rolls, bins = sides, range = [1, sides + 1], align = 'left')\n",
        "plt.xticks = range(sides + 1)\n",
        "plt.ylabel(\"Counts\")\n",
        "plt.xlabel(\"Dice Values\")\n",
        "plt.show()"
      ],
      "metadata": {
        "id": "T2b4zbiTdk2y"
      },
      "execution_count": null,
      "outputs": []
    },
    {
      "cell_type": "markdown",
      "source": [
        "# Part C"
      ],
      "metadata": {
        "id": "Plsht1-hdizM"
      }
    },
    {
      "cell_type": "markdown",
      "source": [
        "## Multiple Rolls of S sided dice\n"
      ],
      "metadata": {
        "id": "E8apKNnrd45z"
      }
    },
    {
      "cell_type": "code",
      "source": [
        "from random import randint\n",
        "from matplotlib import pyplot as plt\n",
        "import numpy as np\n",
        "\n",
        "# Set our variables\n",
        "num_rolls = 10000\n",
        "num_dice = 2\n",
        "sides = 6\n",
        "\n",
        "# This defines a function to roll sided dice and return the total of the rolls\n",
        "def roll(sides, num_dice):\n",
        "  throws = [randint(1, sides) for dice in range(num_dice)]\n",
        "  return sum(throws)\n",
        "\n",
        "# Roll the dice and store the results in an array called rolls\n",
        "rolls = [roll(sides, num_dice) for k in range(num_rolls)]\n",
        "\n",
        "# Create a histogram of the results\n",
        "num_bins = (sides - 1) * num_dice + 1\n",
        "plt.hist(rolls, bins = num_bins, range = [num_dice, sides * num_dice + 1], align='left')\n",
        "plt.ylabel(\"Counts\")\n",
        "plt.xlabel(\"Dice Values\")\n",
        "plt.show()"
      ],
      "metadata": {
        "id": "GkLXpoDAeDwB"
      },
      "execution_count": null,
      "outputs": []
    },
    {
      "cell_type": "markdown",
      "source": [
        "##Repeating Part C example but with Interactive Sliders (if you want to)\n",
        "\n"
      ],
      "metadata": {
        "id": "UEWRVsCCb56R"
      }
    },
    {
      "cell_type": "code",
      "source": [
        "from random import randint\n",
        "from matplotlib import pyplot as plt\n",
        "import numpy as np\n",
        "\n",
        "# Importing new modules for interactive sliders\n",
        "from ipywidgets import interact, interactive\n",
        "import ipywidgets as widgets\n",
        "\n",
        "# Moving the code from above into it's own function called dice_rolls\n",
        "def dice_roll(sides, num_dice, num_rolls):\n",
        "  # This defines a function to roll sided dice and return the total of the rolls\n",
        "  def roll(sides, num_dice):\n",
        "    throws = [randint(1, sides) for dice in range(num_dice)]\n",
        "    return sum(throws)\n",
        "\n",
        "  # Roll the dice and store the results in an array called rolls\n",
        "  rolls = [roll(sides, num_dice) for k in range(num_rolls)]\n",
        "\n",
        "  # Create a histogram of the results\n",
        "  num_bins = (sides - 1) * num_dice + 1\n",
        "  plt.hist(rolls, bins = num_bins, range = [num_dice, sides * num_dice + 1], align='left')\n",
        "  plt.ylabel(\"Counts\")\n",
        "  plt.xlabel(\"Dice Values\")\n",
        "  plt.show()\n",
        "\n",
        "# Calling dice rolls, and setting ranges for each of the sliders\n",
        "interactive_plot = interactive(dice_roll, sides = (2,20), num_dice=(1,10), num_rolls=(1, 10_000))\n",
        "output=interactive_plot.children[-1]\n",
        "interactive_plot"
      ],
      "metadata": {
        "id": "ebdsbcZub5hC"
      },
      "execution_count": null,
      "outputs": []
    },
    {
      "cell_type": "markdown",
      "source": [
        "##Acknowledgements and License\n",
        "This notebook was designed by [Adam LaMee](https://adamlamee.github.io/). Thanks to the great folks at [Binder](https://mybinder.org/) and [Google Colaboratory](https://colab.research.google.com/notebooks/intro.ipynb) for making this notebook interactive without you needing to download it or install [Jupyter](https://jupyter.org/) on your own device. Find more activities and license info at [CODINGinK12.org](http://www.codingink12.org).\n",
        "\n",
        "The development and implementation of these materials and workshop were additionally funded by generous support from IRIS-HEP, the [Institute for Research and Innovation in Software for High Energy Physics](https://iris-hep.org/).\n",
        "\n",
        "This work is licensed under a\n",
        "[Creative Commons Attribution-NonCommercial-ShareAlike 4.0 International License][cc-by-nc-sa].\n",
        "\n",
        "[![CC BY-NC-SA 4.0][cc-by-nc-sa-image]][cc-by-nc-sa]\n",
        "\n",
        "[cc-by-nc-sa]: http://creativecommons.org/licenses/by-nc-sa/4.0/\n",
        "[cc-by-nc-sa-image]: https://licensebuttons.net/l/by-nc-sa/4.0/88x31.png\n",
        "[cc-by-nc-sa-shield]: https://img.shields.io/badge/License-CC%20BY--NC--SA%204.0-lightgrey.svg"
      ],
      "metadata": {
        "id": "hRF0MTpVNSa8"
      }
    }
  ]
}